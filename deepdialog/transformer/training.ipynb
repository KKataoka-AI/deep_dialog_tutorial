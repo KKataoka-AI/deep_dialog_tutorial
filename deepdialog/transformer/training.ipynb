{
 "cells": [
  {
   "cell_type": "code",
   "execution_count": 1,
   "metadata": {},
   "outputs": [
    {
     "name": "stdout",
     "output_type": "stream",
     "text": [
      "current dir: /home/harumitsu.nobuta/git/deep_dialog_tutorial\n"
     ]
    }
   ],
   "source": [
    "# カレントディレクトリをリポジトリ直下にするおまじない\n",
    "import os\n",
    "while os.getcwd().split('/')[-1] != 'deep_dialog_tutorial': os.chdir('..')\n",
    "print('current dir:', os.getcwd())"
   ]
  },
  {
   "cell_type": "code",
   "execution_count": 2,
   "metadata": {},
   "outputs": [],
   "source": [
    "import tensorflow as tf\n",
    "from deepdialog.transformer.transformer import Transformer\n",
    "from deepdialog.transformer.preprocess.batch_generator import BatchGenerator"
   ]
  },
  {
   "cell_type": "markdown",
   "metadata": {},
   "source": [
    "# Create Data"
   ]
  },
  {
   "cell_type": "code",
   "execution_count": 3,
   "metadata": {},
   "outputs": [],
   "source": [
    "data_path = 'data/natsume.txt'"
   ]
  },
  {
   "cell_type": "code",
   "execution_count": 4,
   "metadata": {},
   "outputs": [],
   "source": [
    "batch_generator = BatchGenerator()\n",
    "batch_generator.load(data_path)"
   ]
  },
  {
   "cell_type": "code",
   "execution_count": 5,
   "metadata": {},
   "outputs": [],
   "source": [
    "vocab_size = batch_generator.vocab_size"
   ]
  },
  {
   "cell_type": "markdown",
   "metadata": {},
   "source": [
    "# Create Model"
   ]
  },
  {
   "cell_type": "code",
   "execution_count": null,
   "metadata": {},
   "outputs": [],
   "source": [
    "graph = tf.Graph()\n",
    "with graph.as_default():\n",
    "    transformer = Transformer(\n",
    "        vocab_size=vocab_size,\n",
    "        hopping_num=4,\n",
    "        head_num=8,\n",
    "        hidden_dim=512,\n",
    "        dropout_rate=0.1,\n",
    "        max_length=50,\n",
    "    )\n",
    "    transformer.build_graph()"
   ]
  },
  {
   "cell_type": "markdown",
   "metadata": {},
   "source": [
    "# Create Training Graph"
   ]
  },
  {
   "cell_type": "code",
   "execution_count": null,
   "metadata": {},
   "outputs": [],
   "source": [
    "save_dir = 'tmp/learning/transformer/'\n",
    "log_dir = os.path.join(save_dir, 'log')\n",
    "ckpt_path = os.path.join(save_dir, 'checkpoints/model.ckpt')\n",
    "\n",
    "os.makedirs(log_dir, exist_ok=True)"
   ]
  },
  {
   "cell_type": "code",
   "execution_count": null,
   "metadata": {},
   "outputs": [],
   "source": [
    "with graph.as_default():\n",
    "    global_step = tf.train.get_or_create_global_step()\n",
    "    \n",
    "    learning_rate = tf.placeholder(dtype=tf.float32, name='learning_rate')\n",
    "    optimizer = tf.train.AdamOptimizer(\n",
    "        learning_rate=learning_rate,\n",
    "        beta2=0.98,\n",
    "    )\n",
    "    optimize_op = optimizer.minimize(transformer.loss, global_step=global_step)\n",
    "\n",
    "    summary_op = tf.summary.merge([\n",
    "        tf.summary.scalar('train/loss', transformer.loss),\n",
    "        tf.summary.scalar('train/acc', transformer.acc),\n",
    "        tf.summary.scalar('train/learning_rate', learning_rate),\n",
    "    ], name='train_summary')\n",
    "    summary_writer = tf.summary.FileWriter(log_dir, graph)\n",
    "    saver = tf.train.Saver()"
   ]
  },
  {
   "cell_type": "markdown",
   "metadata": {},
   "source": [
    "# Train"
   ]
  },
  {
   "cell_type": "code",
   "execution_count": null,
   "metadata": {},
   "outputs": [],
   "source": [
    "max_step = 100000\n",
    "batch_size = 128\n",
    "max_learning_rate = 0.0001\n",
    "warmup_step = 4000"
   ]
  },
  {
   "cell_type": "code",
   "execution_count": null,
   "metadata": {},
   "outputs": [],
   "source": [
    "def get_learning_rate(step: int) -> float:\n",
    "    rate = min(step ** -0.5, step * warmup_step ** -1.5) / warmup_step ** -0.5\n",
    "    return max_learning_rate * rate"
   ]
  },
  {
   "cell_type": "code",
   "execution_count": null,
   "metadata": {},
   "outputs": [],
   "source": [
    "with graph.as_default():\n",
    "    sess = tf.Session()\n",
    "    sess.run(tf.global_variables_initializer())\n",
    "    step = 0"
   ]
  },
  {
   "cell_type": "code",
   "execution_count": null,
   "metadata": {},
   "outputs": [
    {
     "name": "stdout",
     "output_type": "stream",
     "text": [
      "0: loss: 8.456110000610352,\t acc: 0.00042753314482979476\n",
      "100: loss: 8.063234329223633,\t acc: 0.061625875532627106\n",
      "200: loss: 7.624130725860596,\t acc: 0.08877591043710709\n",
      "300: loss: 7.2388014793396,\t acc: 0.15279187262058258\n",
      "400: loss: 6.831792831420898,\t acc: 0.15193502604961395\n",
      "800: loss: 6.131741523742676,\t acc: 0.16190476715564728\n",
      "900: loss: 6.099096298217773,\t acc: 0.16284014284610748\n",
      "1000: loss: 6.00535774230957,\t acc: 0.17789646983146667\n",
      "1100: loss: 5.965171813964844,\t acc: 0.175105482339859\n",
      "1200: loss: 6.056082248687744,\t acc: 0.16189385950565338\n",
      "1300: loss: 5.734684944152832,\t acc: 0.19673576951026917\n",
      "1400: loss: 5.750892162322998,\t acc: 0.19291338324546814\n",
      "1500: loss: 5.762808322906494,\t acc: 0.19190600514411926\n",
      "1600: loss: 5.654571056365967,\t acc: 0.20242369174957275\n",
      "1700: loss: 5.622186660766602,\t acc: 0.20016610622406006\n",
      "1800: loss: 5.621791362762451,\t acc: 0.19756199419498444\n",
      "1900: loss: 5.568434238433838,\t acc: 0.20691144466400146\n",
      "2000: loss: 5.44687557220459,\t acc: 0.21381579339504242\n",
      "2100: loss: 5.414419174194336,\t acc: 0.2064831256866455\n",
      "2200: loss: 5.508380889892578,\t acc: 0.19874311983585358\n",
      "2300: loss: 5.487494945526123,\t acc: 0.20331446826457977\n",
      "2400: loss: 5.319317817687988,\t acc: 0.21157850325107574\n",
      "2500: loss: 5.343756675720215,\t acc: 0.20568837225437164\n",
      "2600: loss: 5.286867141723633,\t acc: 0.20811519026756287\n",
      "2700: loss: 5.276029586791992,\t acc: 0.2098710536956787\n",
      "2800: loss: 5.206023216247559,\t acc: 0.22122378647327423\n",
      "2900: loss: 5.038154602050781,\t acc: 0.23236124217510223\n",
      "3000: loss: 5.104355812072754,\t acc: 0.22743521630764008\n",
      "3100: loss: 5.126926422119141,\t acc: 0.2107037454843521\n",
      "3200: loss: 5.014754772186279,\t acc: 0.22401656210422516\n",
      "3300: loss: 5.025139808654785,\t acc: 0.23066666722297668\n",
      "3400: loss: 4.941408634185791,\t acc: 0.23014168441295624\n",
      "3500: loss: 4.912785053253174,\t acc: 0.24003392457962036\n",
      "3600: loss: 5.00833797454834,\t acc: 0.22020934522151947\n",
      "3700: loss: 4.822469711303711,\t acc: 0.24779582023620605\n",
      "3800: loss: 4.809948444366455,\t acc: 0.24245116114616394\n",
      "3900: loss: 4.824687480926514,\t acc: 0.2477102428674698\n",
      "4000: loss: 4.854027271270752,\t acc: 0.23831196129322052\n",
      "4100: loss: 4.789676666259766,\t acc: 0.23141223192214966\n",
      "4200: loss: 4.783527374267578,\t acc: 0.2415730357170105\n",
      "4300: loss: 4.59663724899292,\t acc: 0.24965955317020416\n",
      "4400: loss: 4.752450466156006,\t acc: 0.23962344229221344\n",
      "4500: loss: 4.8018035888671875,\t acc: 0.23905034363269806\n",
      "4600: loss: 4.587310791015625,\t acc: 0.2567099630832672\n",
      "4700: loss: 4.544100761413574,\t acc: 0.2522633671760559\n",
      "4800: loss: 4.494418621063232,\t acc: 0.2575145661830902\n",
      "4900: loss: 4.54245662689209,\t acc: 0.24596431851387024\n",
      "5000: loss: 4.445837497711182,\t acc: 0.2686775028705597\n",
      "5100: loss: 4.514632701873779,\t acc: 0.2603395879268646\n",
      "5200: loss: 4.388525009155273,\t acc: 0.2585214674472809\n",
      "5300: loss: 4.37705659866333,\t acc: 0.27642637491226196\n",
      "5400: loss: 4.34771728515625,\t acc: 0.2738979756832123\n",
      "5500: loss: 4.450374603271484,\t acc: 0.25080257654190063\n",
      "5600: loss: 4.400920867919922,\t acc: 0.27194955945014954\n",
      "5700: loss: 4.484810829162598,\t acc: 0.24290083348751068\n",
      "5800: loss: 4.316364288330078,\t acc: 0.2655201256275177\n",
      "5900: loss: 4.273972511291504,\t acc: 0.2746448516845703\n",
      "6000: loss: 4.320553302764893,\t acc: 0.2808062434196472\n",
      "6100: loss: 4.388421058654785,\t acc: 0.2707231044769287\n",
      "6200: loss: 4.133350372314453,\t acc: 0.2922716736793518\n",
      "6300: loss: 4.329468727111816,\t acc: 0.2611134946346283\n",
      "6400: loss: 4.322432041168213,\t acc: 0.26906222105026245\n",
      "6500: loss: 4.262185573577881,\t acc: 0.2718527913093567\n",
      "6600: loss: 4.347004413604736,\t acc: 0.26810672879219055\n",
      "6700: loss: 4.2577223777771,\t acc: 0.26779359579086304\n",
      "6800: loss: 4.383606910705566,\t acc: 0.25628742575645447\n",
      "6900: loss: 4.17828893661499,\t acc: 0.29600733518600464\n",
      "7000: loss: 4.274170875549316,\t acc: 0.2644462287425995\n",
      "7100: loss: 4.192056655883789,\t acc: 0.2744651734828949\n",
      "7200: loss: 4.157262325286865,\t acc: 0.2859618663787842\n",
      "7300: loss: 4.143908977508545,\t acc: 0.27880510687828064\n",
      "7400: loss: 4.1946563720703125,\t acc: 0.27994734048843384\n",
      "7500: loss: 3.973661422729492,\t acc: 0.29752808809280396\n",
      "7600: loss: 4.075747966766357,\t acc: 0.2974516749382019\n",
      "7700: loss: 4.045965671539307,\t acc: 0.2951042652130127\n",
      "7800: loss: 4.085124492645264,\t acc: 0.28605425357818604\n",
      "7900: loss: 4.138719081878662,\t acc: 0.2756514549255371\n",
      "8000: loss: 4.048675060272217,\t acc: 0.29752808809280396\n",
      "8100: loss: 4.119937419891357,\t acc: 0.27346569299697876\n",
      "8200: loss: 4.129490852355957,\t acc: 0.27090984582901\n",
      "8300: loss: 4.024595260620117,\t acc: 0.29987505078315735\n",
      "8400: loss: 4.097468376159668,\t acc: 0.2881355881690979\n",
      "8500: loss: 4.125740051269531,\t acc: 0.28338098526000977\n",
      "8600: loss: 4.064797878265381,\t acc: 0.28390368819236755\n",
      "8700: loss: 4.081852436065674,\t acc: 0.2783898413181305\n",
      "8800: loss: 4.1344313621521,\t acc: 0.2897196114063263\n",
      "8900: loss: 4.147453308105469,\t acc: 0.2754112184047699\n",
      "9000: loss: 4.041755676269531,\t acc: 0.2966066300868988\n",
      "9100: loss: 4.057901859283447,\t acc: 0.2802101671695709\n",
      "9200: loss: 3.9369938373565674,\t acc: 0.2987436056137085\n",
      "9300: loss: 4.0047502517700195,\t acc: 0.2983802258968353\n",
      "9400: loss: 4.050186634063721,\t acc: 0.2909336984157562\n",
      "9500: loss: 4.042887210845947,\t acc: 0.2975391447544098\n",
      "9600: loss: 3.9739620685577393,\t acc: 0.2875226140022278\n",
      "9700: loss: 4.015842437744141,\t acc: 0.28633594512939453\n",
      "9800: loss: 4.048672199249268,\t acc: 0.27763205766677856\n"
     ]
    }
   ],
   "source": [
    "with graph.as_default():\n",
    "    for batch in batch_generator.get_batch(batch_size=batch_size):\n",
    "        feed = {\n",
    "            **batch,\n",
    "            learning_rate: get_learning_rate(step + 1),\n",
    "        }\n",
    "        _, loss, acc, step, summary = sess.run([optimize_op, transformer.loss, transformer.acc, global_step, summary_op], feed_dict=feed)\n",
    "        summary_writer.add_summary(summary, step)\n",
    "        \n",
    "        if step % 100 == 0:\n",
    "            print(f'{step}: loss: {loss},\\t acc: {acc}')\n",
    "            saver.save(sess, ckpt_path, global_step=step)"
   ]
  },
  {
   "cell_type": "code",
   "execution_count": null,
   "metadata": {},
   "outputs": [],
   "source": []
  }
 ],
 "metadata": {
  "kernelspec": {
   "display_name": "Python 3",
   "language": "python",
   "name": "python3"
  },
  "language_info": {
   "codemirror_mode": {
    "name": "ipython",
    "version": 3
   },
   "file_extension": ".py",
   "mimetype": "text/x-python",
   "name": "python",
   "nbconvert_exporter": "python",
   "pygments_lexer": "ipython3",
   "version": "3.6.5"
  }
 },
 "nbformat": 4,
 "nbformat_minor": 2
}
