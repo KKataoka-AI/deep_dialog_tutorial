{
 "cells": [
  {
   "cell_type": "code",
   "execution_count": 1,
   "metadata": {},
   "outputs": [],
   "source": [
    "import os\n",
    "import re\n",
    "import codecs\n",
    "from tqdm import tqdm_notebook as tqdm"
   ]
  },
  {
   "cell_type": "code",
   "execution_count": 2,
   "metadata": {},
   "outputs": [],
   "source": [
    "data_dir = 'tmp/natsume/'\n",
    "out_path = 'data/natsume.txt'"
   ]
  },
  {
   "cell_type": "code",
   "execution_count": 3,
   "metadata": {},
   "outputs": [],
   "source": [
    "def convert_line(line):\n",
    "    line = line.replace('\\r\\n', '').replace('○', '').replace('\\u3000', '').replace('※', '').replace('｜', '')\n",
    "    line = re.sub(r'《.*?》', '', line)\n",
    "    line = re.sub(r'\\［.*?\\］', '', line)\n",
    "    if not line:\n",
    "        return []\n",
    "    sentence_list = line.split('。')\n",
    "    return [sentence + '。' for sentence in sentence_list if sentence]\n",
    "\n",
    "def get_text_list(file_path):\n",
    "    with codecs.open(file_path, mode='r', encoding='shift_jis') as f:\n",
    "        header_sep_count = 0\n",
    "        text_list = []\n",
    "        for line in f.readlines():\n",
    "            if line.startswith('-----------------'):\n",
    "                header_sep_count += 1\n",
    "                continue\n",
    "            if header_sep_count < 2:\n",
    "                continue\n",
    "            if line.startswith('底本：'):\n",
    "                break\n",
    "            text_list += convert_line(line)\n",
    "        return text_list"
   ]
  },
  {
   "cell_type": "code",
   "execution_count": 4,
   "metadata": {},
   "outputs": [
    {
     "data": {
      "application/vnd.jupyter.widget-view+json": {
       "model_id": "a2ab25e970d049cfa95cfc1a597064b8",
       "version_major": 2,
       "version_minor": 0
      },
      "text/html": [
       "<p>Failed to display Jupyter Widget of type <code>HBox</code>.</p>\n",
       "<p>\n",
       "  If you're reading this message in the Jupyter Notebook or JupyterLab Notebook, it may mean\n",
       "  that the widgets JavaScript is still loading. If this message persists, it\n",
       "  likely means that the widgets JavaScript library is either not installed or\n",
       "  not enabled. See the <a href=\"https://ipywidgets.readthedocs.io/en/stable/user_install.html\">Jupyter\n",
       "  Widgets Documentation</a> for setup instructions.\n",
       "</p>\n",
       "<p>\n",
       "  If you're reading this message in another frontend (for example, a static\n",
       "  rendering on GitHub or <a href=\"https://nbviewer.jupyter.org/\">NBViewer</a>),\n",
       "  it may mean that your frontend doesn't currently support widgets.\n",
       "</p>\n"
      ],
      "text/plain": [
       "HBox(children=(IntProgress(value=0, max=99), HTML(value='')))"
      ]
     },
     "metadata": {},
     "output_type": "display_data"
    },
    {
     "name": "stdout",
     "output_type": "stream",
     "text": [
      "\n",
      "106049 lines\n"
     ]
    }
   ],
   "source": [
    "text_list = []\n",
    "\n",
    "file_name_list = os.listdir(data_dir)\n",
    "for file_name in tqdm(file_name_list):\n",
    "    file_path = os.path.join(data_dir, file_name)\n",
    "    text_list += get_text_list(file_path)\n",
    "print('{} lines'.format(len(text_list)))"
   ]
  },
  {
   "cell_type": "code",
   "execution_count": 5,
   "metadata": {},
   "outputs": [],
   "source": [
    "with codecs.open(out_path, mode='w', encoding='utf-8') as f:\n",
    "    f.write('\\n'.join(text_list) + '\\n')"
   ]
  }
 ],
 "metadata": {
  "kernelspec": {
   "display_name": "Python 3",
   "language": "python",
   "name": "python3"
  },
  "language_info": {
   "codemirror_mode": {
    "name": "ipython",
    "version": 3
   },
   "file_extension": ".py",
   "mimetype": "text/x-python",
   "name": "python",
   "nbconvert_exporter": "python",
   "pygments_lexer": "ipython3",
   "version": "3.5.2"
  }
 },
 "nbformat": 4,
 "nbformat_minor": 2
}
